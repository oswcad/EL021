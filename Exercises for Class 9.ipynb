{
 "cells": [
  {
   "cell_type": "code",
   "execution_count": 1,
   "metadata": {
    "collapsed": true
   },
   "outputs": [],
   "source": [
    "# In Python, the symbolic manipulation requires the package 'sympy'\n",
    "from sympy import *\n",
    "# This line is to produce pretty math font types\n",
    "init_printing(use_latex=True)"
   ]
  },
  {
   "cell_type": "code",
   "execution_count": 7,
   "metadata": {
    "collapsed": true
   },
   "outputs": [],
   "source": [
    "# t is a symbol not a variable\n",
    "t, w, f = symbols('t w f')"
   ]
  },
  {
   "cell_type": "code",
   "execution_count": 5,
   "metadata": {
    "collapsed": false
   },
   "outputs": [
    {
     "data": {
      "image/png": "[encoded data removed]",
      "text/latex": [
       "$$\\frac{1}{t} \\sin{\\left (t w \\right )}$$"
      ],
      "text/plain": [
       "sin(t⋅w)\n",
       "────────\n",
       "   t    "
      ]
     },
     "execution_count": 5,
     "metadata": {},
     "output_type": "execute_result"
    }
   ],
   "source": [
    "y1 = sin(w*t)/t\n",
    "y1"
   ]
  },
  {
   "cell_type": "code",
   "execution_count": 6,
   "metadata": {
    "collapsed": false
   },
   "outputs": [
    {
     "data": {
      "image/png": "[encoded data removed]",
      "text/latex": [
       "$$\\frac{w}{t} \\cos{\\left (t w \\right )} - \\frac{1}{t^{2}} \\sin{\\left (t w \\right )}$$"
      ],
      "text/plain": [
       "w⋅cos(t⋅w)   sin(t⋅w)\n",
       "────────── - ────────\n",
       "    t            2   \n",
       "                t    "
      ]
     },
     "execution_count": 6,
     "metadata": {},
     "output_type": "execute_result"
    }
   ],
   "source": [
    "diff(y1, t)"
   ]
  },
  {
   "cell_type": "code",
   "execution_count": 8,
   "metadata": {
    "collapsed": false
   },
   "outputs": [
    {
     "data": {
      "image/png": "[encoded data removed]",
      "text/latex": [
       "$$t^{2} \\cos{\\left (2 \\pi f t \\right )}$$"
      ],
      "text/plain": [
       " 2             \n",
       "t ⋅cos(2⋅π⋅f⋅t)"
      ]
     },
     "execution_count": 8,
     "metadata": {},
     "output_type": "execute_result"
    }
   ],
   "source": [
    "y2 = t**2*cos(2*pi*f*t)\n",
    "y2"
   ]
  },
  {
   "cell_type": "code",
   "execution_count": 9,
   "metadata": {
    "collapsed": false
   },
   "outputs": [
    {
     "data": {
      "image/png": "[encoded data removed]",
      "text/latex": [
       "$$- 2 \\pi f t^{2} \\sin{\\left (2 \\pi f t \\right )} + 2 t \\cos{\\left (2 \\pi f t \\right )}$$"
      ],
      "text/plain": [
       "         2                                \n",
       "- 2⋅π⋅f⋅t ⋅sin(2⋅π⋅f⋅t) + 2⋅t⋅cos(2⋅π⋅f⋅t)"
      ]
     },
     "execution_count": 9,
     "metadata": {},
     "output_type": "execute_result"
    }
   ],
   "source": [
    "diff(y2, t)"
   ]
  },
  {
   "cell_type": "code",
   "execution_count": null,
   "metadata": {
    "collapsed": true
   },
   "outputs": [],
   "source": []
  }
 ],
 "metadata": {
  "anaconda-cloud": {},
  "kernelspec": {
   "display_name": "Python [Root]",
   "language": "python",
   "name": "Python [Root]"
  },
  "language_info": {
   "codemirror_mode": {
    "name": "ipython",
    "version": 3
   },
   "file_extension": ".py",
   "mimetype": "text/x-python",
   "name": "python",
   "nbconvert_exporter": "python",
   "pygments_lexer": "ipython3",
   "version": "3.5.2"
  }
 },
 "nbformat": 4,
 "nbformat_minor": 0
}
